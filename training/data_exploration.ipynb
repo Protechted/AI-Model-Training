{
 "cells": [
  {
   "cell_type": "code",
   "execution_count": 220,
   "metadata": {},
   "outputs": [],
   "source": [
    "# Data loading\n",
    "from utils import load_data\n",
    "\n",
    "# Optimization (Optuna)\n",
    "import optuna\n",
    "optuna.logging.set_verbosity(optuna.logging.WARNING)\n",
    "\n",
    "# metrics / evaluation\n",
    "from sklearn.metrics import f1_score\n",
    "from sklearn.model_selection import train_test_split\n",
    "from sklearn.metrics import classification_report\n",
    "from sklearn.metrics import confusion_matrix,ConfusionMatrixDisplay\n",
    "from numpy import rint\n",
    "from numpy import load\n",
    "from numpy import concatenate\n",
    "\n",
    "# datetime\n",
    "import datetime\n",
    "\n",
    "# xgboost\n",
    "import xgboost as xgb\n",
    "from xgboost import XGBClassifier"
   ]
  },
  {
   "cell_type": "code",
   "execution_count": 244,
   "metadata": {},
   "outputs": [
    {
     "name": "stdout",
     "output_type": "stream",
     "text": [
      "Samples fetched\n",
      "Data fetched\n",
      "all_samples shape: (194, 200, 7)\n",
      "all_labels shape: (194,)\n",
      "X_train shape: (135, 200, 7)\n",
      "X_val shape: (30, 200, 7)\n",
      "X_test shape: (29, 200, 7)\n",
      "X_train shape: (1632, 150, 7), 1/0 ratio: 0.7022058823529411\n",
      "X_val shape: (373, 150, 7), 1/0 ratio: 0.710455764075067\n",
      "X_test shape: (373, 150, 7), 1/0 ratio: 0.7265415549597856\n"
     ]
    }
   ],
   "source": [
    "X_train, X_val, X_test, y_train, y_val, y_test = load_data(win_size=150)"
   ]
  },
  {
   "cell_type": "code",
   "execution_count": 230,
   "metadata": {},
   "outputs": [],
   "source": [
    "# merge X_train, X_val, X_test, y_train, y_val, y_test\n",
    "X = concatenate((X_train, X_val, X_test))\n",
    "y = concatenate((y_train, y_val, y_test))"
   ]
  },
  {
   "cell_type": "code",
   "execution_count": 231,
   "metadata": {},
   "outputs": [],
   "source": [
    "# split X, y into 0 and 1 samples\n",
    "X_0 = X[y == 0]\n",
    "X_1 = X[y == 1]"
   ]
  },
  {
   "cell_type": "code",
   "execution_count": 69,
   "metadata": {},
   "outputs": [
    {
     "name": "stdout",
     "output_type": "stream",
     "text": [
      "count    116.000000\n",
      "mean       0.001318\n",
      "std        0.002670\n",
      "min        0.000001\n",
      "25%        0.000149\n",
      "50%        0.000461\n",
      "75%        0.001273\n",
      "max        0.016668\n",
      "dtype: float64\n",
      "count    78.000000\n",
      "mean      0.008196\n",
      "std       0.006161\n",
      "min       0.000562\n",
      "25%       0.003442\n",
      "50%       0.006348\n",
      "75%       0.011002\n",
      "max       0.025104\n",
      "dtype: float64\n"
     ]
    },
    {
     "data": {
      "image/png": "[encoded data removed]",
      "text/plain": [
       "<Figure size 432x288 with 1 Axes>"
      ]
     },
     "metadata": {
      "needs_background": "light"
     },
     "output_type": "display_data"
    }
   ],
   "source": [
    "vars_0 = []\n",
    "for sample in X_0:\n",
    "    vars_0.append(sample[:,0:3].var())\n",
    "\n",
    "vars_1 = []\n",
    "for sample in X_1:\n",
    "    vars_1.append(sample[:,0:3].var())\n",
    "\n",
    "series_0 = pd.Series(vars_0)\n",
    "series_1 = pd.Series(vars_1)\n",
    "\n",
    "print(series_0.describe())\n",
    "print(series_1.describe())\n",
    "\n",
    "# plot the distribution of the variances\n",
    "series_0.plot(kind='hist', bins=100)\n",
    "series_1.plot(kind='hist', bins=100)\n",
    "plt.show()"
   ]
  },
  {
   "cell_type": "code",
   "execution_count": 159,
   "metadata": {},
   "outputs": [],
   "source": [
    "# disable scientific notation\n",
    "np.set_printoptions(suppress=True)"
   ]
  },
  {
   "cell_type": "code",
   "execution_count": 163,
   "metadata": {},
   "outputs": [
    {
     "ename": "AttributeError",
     "evalue": "'numpy.ndarray' object has no attribute 'quantile'",
     "output_type": "error",
     "traceback": [
      "\u001b[0;31m---------------------------------------------------------------------------\u001b[0m",
      "\u001b[0;31mAttributeError\u001b[0m                            Traceback (most recent call last)",
      "\u001b[1;32m/Users/benschaper/Documents/protechted/AI-Model-Training/training/data_exploration.ipynb Cell 9'\u001b[0m in \u001b[0;36m<cell line: 1>\u001b[0;34m()\u001b[0m\n\u001b[0;32m----> <a href='vscode-notebook-cell:/Users/benschaper/Documents/protechted/AI-Model-Training/training/data_exploration.ipynb#ch0000021?line=0'>1</a>\u001b[0m sample\u001b[39m.\u001b[39;49mquantile(\u001b[39m0.25\u001b[39m, axis\u001b[39m=\u001b[39m\u001b[39m0\u001b[39m)\n",
      "\u001b[0;31mAttributeError\u001b[0m: 'numpy.ndarray' object has no attribute 'quantile'"
     ]
    }
   ],
   "source": [
    "sample.quantile(0.25, axis=0)"
   ]
  },
  {
   "cell_type": "code",
   "execution_count": 245,
   "metadata": {},
   "outputs": [],
   "source": [
    "from scipy.stats import skew, kurtosis\n",
    "\n",
    "def get_stats(X,y):\n",
    "    X_stats = []\n",
    "    labels = []\n",
    "\n",
    "    for i, sample in enumerate(X):\n",
    "        sample_stats = {}\n",
    "        sample_stats['var'] = sample.var(axis=0)\n",
    "        sample_stats['min'] = sample.min(axis=0)\n",
    "        sample_stats['max'] = sample.max(axis=0)\n",
    "        sample_stats['skew'] = skew(sample, axis=0)\n",
    "        sample_stats['kurtosis'] = kurtosis(sample, axis=0)\n",
    "        sample_stats['q025'] = np.percentile(sample, q=2.5, axis=0)\n",
    "        sample_stats['q25'] = np.percentile(sample, q=25, axis=0)\n",
    "        sample_stats['q50'] = np.percentile(sample, q=50, axis=0)\n",
    "        sample_stats['q75'] = np.percentile(sample, q=75, axis=0)\n",
    "        sample_stats['q95'] = np.percentile(sample, q=95, axis=0)\n",
    "\n",
    "        X_stats.append(pd.DataFrame(sample_stats))\n",
    "\n",
    "        # add label according to the value of y at the index of sample in X\n",
    "        labels.append(y[i])\n",
    "\n",
    "    return np.array(X_stats), np.array(labels)"
   ]
  },
  {
   "cell_type": "code",
   "execution_count": 233,
   "metadata": {},
   "outputs": [],
   "source": [
    "X_stats = np.stack(X_stats)\n",
    "labels = np.stack(labels)"
   ]
  },
  {
   "cell_type": "code",
   "execution_count": 234,
   "metadata": {},
   "outputs": [
    {
     "name": "stdout",
     "output_type": "stream",
     "text": [
      "(2378, 7, 10)\n"
     ]
    }
   ],
   "source": [
    "print(X_stats.shape)"
   ]
  },
  {
   "cell_type": "code",
   "execution_count": 246,
   "metadata": {},
   "outputs": [],
   "source": [
    "X_train, y_train = get_stats(X_train, y_train)\n",
    "X_val, y_val = get_stats(X_val, y_val)\n",
    "X_test, y_test = get_stats(X_test, y_test)"
   ]
  },
  {
   "cell_type": "code",
   "execution_count": 250,
   "metadata": {},
   "outputs": [],
   "source": [
    "# flatten X_train and X_val and X_test for Naive Bayes, XGBoost\n",
    "X_train = X_train.reshape(X_train.shape[0], X_train.shape[1] * X_train.shape[2])\n",
    "X_val = X_val.reshape(X_val.shape[0], X_val.shape[1] * X_val.shape[2])\n",
    "X_test = X_test.reshape(X_test.shape[0], X_test.shape[1] * X_test.shape[2])"
   ]
  },
  {
   "cell_type": "markdown",
   "metadata": {},
   "source": [
    "## XGBoost"
   ]
  },
  {
   "cell_type": "code",
   "execution_count": 252,
   "metadata": {},
   "outputs": [
    {
     "name": "stdout",
     "output_type": "stream",
     "text": [
      "Number of finished trials:  100\n",
      "Best trial:\n",
      "  Value: 0.9850746268656716\n",
      "  Params: \n",
      "    eta: 0.04425235169747014\n",
      "    min_child_weight: 17\n",
      "    max_depth: 50\n",
      "    scale_pos_weight: 26.189327078819705\n",
      "    subsample: 0.9280971750601683\n",
      "    gamma: 0.03710988793351788\n"
     ]
    }
   ],
   "source": [
    "# tune the hyperparameters\n",
    "def objective(trial):\n",
    "    # define the hyperparameters to tune\n",
    "    eta = trial.suggest_loguniform(\"eta\", 0.01, 1.0)\n",
    "    min_child_weight = trial.suggest_int(\"min_child_weight\", 1, 50)\n",
    "    max_depth = trial.suggest_int(\"max_depth\", 1, 50)\n",
    "    scale_pos_weight = trial.suggest_uniform(\"scale_pos_weight\", 1, 50)\n",
    "    subsample = trial.suggest_uniform(\"subsample\", 0.1, 1.0)\n",
    "    gamma = trial.suggest_uniform(\"gamma\", 0.0, 10.0)\n",
    "\n",
    "    # define the model\n",
    "    model = XGBClassifier(\n",
    "        eta=eta, min_child_weight=min_child_weight, max_depth=max_depth,  scale_pos_weight=scale_pos_weight, subsample=subsample, gamma=gamma\n",
    "    )\n",
    "    # fit the model\n",
    "    model.fit(X_train, y_train)\n",
    "    # predict the test data\n",
    "    preds = model.predict(X_val)\n",
    "    pred_labels = np.rint(preds)\n",
    "    #recall = sklearn.metrics.recall_score(valid_y, pred_labels)\n",
    "    f_score = f1_score(y_val, pred_labels)\n",
    "    return f_score\n",
    "\n",
    "study = optuna.create_study(direction=\"maximize\")\n",
    "study.optimize(objective, n_trials=100, timeout=600)\n",
    "\n",
    "print(\"Number of finished trials: \", len(study.trials))\n",
    "print(\"Best trial:\")\n",
    "trial = study.best_trial\n",
    "\n",
    "print(\"  Value: {}\".format(trial.value))\n",
    "print(\"  Params: \")\n",
    "for key, value in trial.params.items():\n",
    "    print(\"    {}: {}\".format(key, value))"
   ]
  },
  {
   "cell_type": "code",
   "execution_count": 253,
   "metadata": {},
   "outputs": [
    {
     "name": "stdout",
     "output_type": "stream",
     "text": [
      "              precision    recall  f1-score   support\n",
      "\n",
      "         0.0       1.00      0.62      0.76       102\n",
      "         1.0       0.87      1.00      0.93       271\n",
      "\n",
      "    accuracy                           0.90       373\n",
      "   macro avg       0.94      0.81      0.85       373\n",
      "weighted avg       0.91      0.90      0.89       373\n",
      "\n"
     ]
    }
   ],
   "source": [
    "# build the best model\n",
    "best_params = study.best_trial.params\n",
    "best_model = xgb.XGBClassifier(**best_params)\n",
    "# fit the model\n",
    "best_model.fit(X_train, y_train)\n",
    "# predict the test data\n",
    "pred_xgb = best_model.predict(X_test)\n",
    "# get the f1 score\n",
    "print(classification_report(y_test, pred_xgb))"
   ]
  },
  {
   "cell_type": "code",
   "execution_count": 254,
   "metadata": {},
   "outputs": [
    {
     "data": {
      "image/png": "[encoded data removed]",
      "text/plain": [
       "<Figure size 720x720 with 2 Axes>"
      ]
     },
     "metadata": {
      "needs_background": "light"
     },
     "output_type": "display_data"
    }
   ],
   "source": [
    "# get confusion matrix\n",
    "plt.rcParams['figure.figsize'] = (10, 10)\n",
    "\n",
    "cm = confusion_matrix(y_test, pred_xgb)\n",
    "# plot confusion matrix\n",
    "\n",
    "cm = confusion_matrix(y_test, pred_xgb, labels=[0, 1])\n",
    "disp = ConfusionMatrixDisplay(confusion_matrix=cm,\n",
    "                              display_labels=[0, 1])\n",
    "disp.plot()\n",
    "plt.show()"
   ]
  },
  {
   "cell_type": "code",
   "execution_count": 255,
   "metadata": {},
   "outputs": [
    {
     "data": {
      "application/vnd.plotly.v1+json": {
       "config": {
        "plotlyServerURL": "https://plot.ly"
       },
       "data": [
        {
         "cliponaxis": false,
         "hovertemplate": [
          "max_depth (IntUniformDistribution): 0.0360987918115981<extra></extra>",
          "scale_pos_weight (UniformDistribution): 0.07535866508266702<extra></extra>",
          "eta (LogUniformDistribution): 0.11767255821998912<extra></extra>",
          "gamma (UniformDistribution): 0.15164424285152622<extra></extra>",
          "min_child_weight (IntUniformDistribution): 0.23129669718815124<extra></extra>",
          "subsample (UniformDistribution): 0.38792904484606827<extra></extra>"
         ],
         "marker": {
          "color": "rgb(66,146,198)"
         },
         "orientation": "h",
         "text": [
          "0.0360987918115981",
          "0.07535866508266702",
          "0.11767255821998912",
          "0.15164424285152622",
          "0.23129669718815124",
          "0.38792904484606827"
         ],
         "textposition": "outside",
         "texttemplate": "%{text:.2f}",
         "type": "bar",
         "x": [
          0.0360987918115981,
          0.07535866508266702,
          0.11767255821998912,
          0.15164424285152622,
          0.23129669718815124,
          0.38792904484606827
         ],
         "y": [
          "max_depth",
          "scale_pos_weight",
          "eta",
          "gamma",
          "min_child_weight",
          "subsample"
         ]
        }
       ],
       "layout": {
        "showlegend": false,
        "template": {
         "data": {
          "bar": [
           {
            "error_x": {
             "color": "#2a3f5f"
            },
            "error_y": {
             "color": "#2a3f5f"
            },
            "marker": {
             "line": {
              "color": "#E5ECF6",
              "width": 0.5
             },
             "pattern": {
              "fillmode": "overlay",
              "size": 10,
              "solidity": 0.2
             }
            },
            "type": "bar"
           }
          ],
          "barpolar": [
           {
            "marker": {
             "line": {
              "color": "#E5ECF6",
              "width": 0.5
             },
             "pattern": {
              "fillmode": "overlay",
              "size": 10,
              "solidity": 0.2
             }
            },
            "type": "barpolar"
           }
          ],
          "carpet": [
           {
            "aaxis": {
             "endlinecolor": "#2a3f5f",
             "gridcolor": "white",
             "linecolor": "white",
             "minorgridcolor": "white",
             "startlinecolor": "#2a3f5f"
            },
            "baxis": {
             "endlinecolor": "#2a3f5f",
             "gridcolor": "white",
             "linecolor": "white",
             "minorgridcolor": "white",
             "startlinecolor": "#2a3f5f"
            },
            "type": "carpet"
           }
          ],
          "choropleth": [
           {
            "colorbar": {
             "outlinewidth": 0,
             "ticks": ""
            },
            "type": "choropleth"
           }
          ],
          "contour": [
           {
            "colorbar": {
             "outlinewidth": 0,
             "ticks": ""
            },
            "colorscale": [
             [
              0,
              "#0d0887"
             ],
             [
              0.1111111111111111,
              "#46039f"
             ],
             [
              0.2222222222222222,
              "#7201a8"
             ],
             [
              0.3333333333333333,
              "#9c179e"
             ],
             [
              0.4444444444444444,
              "#bd3786"
             ],
             [
              0.5555555555555556,
              "#d8576b"
             ],
             [
              0.6666666666666666,
              "#ed7953"
             ],
             [
              0.7777777777777778,
              "#fb9f3a"
             ],
             [
              0.8888888888888888,
              "#fdca26"
             ],
             [
              1,
              "#f0f921"
             ]
            ],
            "type": "contour"
           }
          ],
          "contourcarpet": [
           {
            "colorbar": {
             "outlinewidth": 0,
             "ticks": ""
            },
            "type": "contourcarpet"
           }
          ],
          "heatmap": [
           {
            "colorbar": {
             "outlinewidth": 0,
             "ticks": ""
            },
            "colorscale": [
             [
              0,
              "#0d0887"
             ],
             [
              0.1111111111111111,
              "#46039f"
             ],
             [
              0.2222222222222222,
              "#7201a8"
             ],
             [
              0.3333333333333333,
              "#9c179e"
             ],
             [
              0.4444444444444444,
              "#bd3786"
             ],
             [
              0.5555555555555556,
              "#d8576b"
             ],
             [
              0.6666666666666666,
              "#ed7953"
             ],
             [
              0.7777777777777778,
              "#fb9f3a"
             ],
             [
              0.8888888888888888,
              "#fdca26"
             ],
             [
              1,
              "#f0f921"
             ]
            ],
            "type": "heatmap"
           }
          ],
          "heatmapgl": [
           {
            "colorbar": {
             "outlinewidth": 0,
             "ticks": ""
            },
            "colorscale": [
             [
              0,
              "#0d0887"
             ],
             [
              0.1111111111111111,
              "#46039f"
             ],
             [
              0.2222222222222222,
              "#7201a8"
             ],
             [
              0.3333333333333333,
              "#9c179e"
             ],
             [
              0.4444444444444444,
              "#bd3786"
             ],
             [
              0.5555555555555556,
              "#d8576b"
             ],
             [
              0.6666666666666666,
              "#ed7953"
             ],
             [
              0.7777777777777778,
              "#fb9f3a"
             ],
             [
              0.8888888888888888,
              "#fdca26"
             ],
             [
              1,
              "#f0f921"
             ]
            ],
            "type": "heatmapgl"
           }
          ],
          "histogram": [
           {
            "marker": {
             "pattern": {
              "fillmode": "overlay",
              "size": 10,
              "solidity": 0.2
             }
            },
            "type": "histogram"
           }
          ],
          "histogram2d": [
           {
            "colorbar": {
             "outlinewidth": 0,
             "ticks": ""
            },
            "colorscale": [
             [
              0,
              "#0d0887"
             ],
             [
              0.1111111111111111,
              "#46039f"
             ],
             [
              0.2222222222222222,
              "#7201a8"
             ],
             [
              0.3333333333333333,
              "#9c179e"
             ],
             [
              0.4444444444444444,
              "#bd3786"
             ],
             [
              0.5555555555555556,
              "#d8576b"
             ],
             [
              0.6666666666666666,
              "#ed7953"
             ],
             [
              0.7777777777777778,
              "#fb9f3a"
             ],
             [
              0.8888888888888888,
              "#fdca26"
             ],
             [
              1,
              "#f0f921"
             ]
            ],
            "type": "histogram2d"
           }
          ],
          "histogram2dcontour": [
           {
            "colorbar": {
             "outlinewidth": 0,
             "ticks": ""
            },
            "colorscale": [
             [
              0,
              "#0d0887"
             ],
             [
              0.1111111111111111,
              "#46039f"
             ],
             [
              0.2222222222222222,
              "#7201a8"
             ],
             [
              0.3333333333333333,
              "#9c179e"
             ],
             [
              0.4444444444444444,
              "#bd3786"
             ],
             [
              0.5555555555555556,
              "#d8576b"
             ],
             [
              0.6666666666666666,
              "#ed7953"
             ],
             [
              0.7777777777777778,
              "#fb9f3a"
             ],
             [
              0.8888888888888888,
              "#fdca26"
             ],
             [
              1,
              "#f0f921"
             ]
            ],
            "type": "histogram2dcontour"
           }
          ],
          "mesh3d": [
           {
            "colorbar": {
             "outlinewidth": 0,
             "ticks": ""
            },
            "type": "mesh3d"
           }
          ],
          "parcoords": [
           {
            "line": {
             "colorbar": {
              "outlinewidth": 0,
              "ticks": ""
             }
            },
            "type": "parcoords"
           }
          ],
          "pie": [
           {
            "automargin": true,
            "type": "pie"
           }
          ],
          "scatter": [
           {
            "fillpattern": {
             "fillmode": "overlay",
             "size": 10,
             "solidity": 0.2
            },
            "type": "scatter"
           }
          ],
          "scatter3d": [
           {
            "line": {
             "colorbar": {
              "outlinewidth": 0,
              "ticks": ""
             }
            },
            "marker": {
             "colorbar": {
              "outlinewidth": 0,
              "ticks": ""
             }
            },
            "type": "scatter3d"
           }
          ],
          "scattercarpet": [
           {
            "marker": {
             "colorbar": {
              "outlinewidth": 0,
              "ticks": ""
             }
            },
            "type": "scattercarpet"
           }
          ],
          "scattergeo": [
           {
            "marker": {
             "colorbar": {
              "outlinewidth": 0,
              "ticks": ""
             }
            },
            "type": "scattergeo"
           }
          ],
          "scattergl": [
           {
            "marker": {
             "colorbar": {
              "outlinewidth": 0,
              "ticks": ""
             }
            },
            "type": "scattergl"
           }
          ],
          "scattermapbox": [
           {
            "marker": {
             "colorbar": {
              "outlinewidth": 0,
              "ticks": ""
             }
            },
            "type": "scattermapbox"
           }
          ],
          "scatterpolar": [
           {
            "marker": {
             "colorbar": {
              "outlinewidth": 0,
              "ticks": ""
             }
            },
            "type": "scatterpolar"
           }
          ],
          "scatterpolargl": [
           {
            "marker": {
             "colorbar": {
              "outlinewidth": 0,
              "ticks": ""
             }
            },
            "type": "scatterpolargl"
           }
          ],
          "scatterternary": [
           {
            "marker": {
             "colorbar": {
              "outlinewidth": 0,
              "ticks": ""
             }
            },
            "type": "scatterternary"
           }
          ],
          "surface": [
           {
            "colorbar": {
             "outlinewidth": 0,
             "ticks": ""
            },
            "colorscale": [
             [
              0,
              "#0d0887"
             ],
             [
              0.1111111111111111,
              "#46039f"
             ],
             [
              0.2222222222222222,
              "#7201a8"
             ],
             [
              0.3333333333333333,
              "#9c179e"
             ],
             [
              0.4444444444444444,
              "#bd3786"
             ],
             [
              0.5555555555555556,
              "#d8576b"
             ],
             [
              0.6666666666666666,
              "#ed7953"
             ],
             [
              0.7777777777777778,
              "#fb9f3a"
             ],
             [
              0.8888888888888888,
              "#fdca26"
             ],
             [
              1,
              "#f0f921"
             ]
            ],
            "type": "surface"
           }
          ],
          "table": [
           {
            "cells": {
             "fill": {
              "color": "#EBF0F8"
             },
             "line": {
              "color": "white"
             }
            },
            "header": {
             "fill": {
              "color": "#C8D4E3"
             },
             "line": {
              "color": "white"
             }
            },
            "type": "table"
           }
          ]
         },
         "layout": {
          "annotationdefaults": {
           "arrowcolor": "#2a3f5f",
           "arrowhead": 0,
           "arrowwidth": 1
          },
          "autotypenumbers": "strict",
          "coloraxis": {
           "colorbar": {
            "outlinewidth": 0,
            "ticks": ""
           }
          },
          "colorscale": {
           "diverging": [
            [
             0,
             "#8e0152"
            ],
            [
             0.1,
             "#c51b7d"
            ],
            [
             0.2,
             "#de77ae"
            ],
            [
             0.3,
             "#f1b6da"
            ],
            [
             0.4,
             "#fde0ef"
            ],
            [
             0.5,
             "#f7f7f7"
            ],
            [
             0.6,
             "#e6f5d0"
            ],
            [
             0.7,
             "#b8e186"
            ],
            [
             0.8,
             "#7fbc41"
            ],
            [
             0.9,
             "#4d9221"
            ],
            [
             1,
             "#276419"
            ]
           ],
           "sequential": [
            [
             0,
             "#0d0887"
            ],
            [
             0.1111111111111111,
             "#46039f"
            ],
            [
             0.2222222222222222,
             "#7201a8"
            ],
            [
             0.3333333333333333,
             "#9c179e"
            ],
            [
             0.4444444444444444,
             "#bd3786"
            ],
            [
             0.5555555555555556,
             "#d8576b"
            ],
            [
             0.6666666666666666,
             "#ed7953"
            ],
            [
             0.7777777777777778,
             "#fb9f3a"
            ],
            [
             0.8888888888888888,
             "#fdca26"
            ],
            [
             1,
             "#f0f921"
            ]
           ],
           "sequentialminus": [
            [
             0,
             "#0d0887"
            ],
            [
             0.1111111111111111,
             "#46039f"
            ],
            [
             0.2222222222222222,
             "#7201a8"
            ],
            [
             0.3333333333333333,
             "#9c179e"
            ],
            [
             0.4444444444444444,
             "#bd3786"
            ],
            [
             0.5555555555555556,
             "#d8576b"
            ],
            [
             0.6666666666666666,
             "#ed7953"
            ],
            [
             0.7777777777777778,
             "#fb9f3a"
            ],
            [
             0.8888888888888888,
             "#fdca26"
            ],
            [
             1,
             "#f0f921"
            ]
           ]
          },
          "colorway": [
           "#636efa",
           "#EF553B",
           "#00cc96",
           "#ab63fa",
           "#FFA15A",
           "#19d3f3",
           "#FF6692",
           "#B6E880",
           "#FF97FF",
           "#FECB52"
          ],
          "font": {
           "color": "#2a3f5f"
          },
          "geo": {
           "bgcolor": "white",
           "lakecolor": "white",
           "landcolor": "#E5ECF6",
           "showlakes": true,
           "showland": true,
           "subunitcolor": "white"
          },
          "hoverlabel": {
           "align": "left"
          },
          "hovermode": "closest",
          "mapbox": {
           "style": "light"
          },
          "paper_bgcolor": "white",
          "plot_bgcolor": "#E5ECF6",
          "polar": {
           "angularaxis": {
            "gridcolor": "white",
            "linecolor": "white",
            "ticks": ""
           },
           "bgcolor": "#E5ECF6",
           "radialaxis": {
            "gridcolor": "white",
            "linecolor": "white",
            "ticks": ""
           }
          },
          "scene": {
           "xaxis": {
            "backgroundcolor": "#E5ECF6",
            "gridcolor": "white",
            "gridwidth": 2,
            "linecolor": "white",
            "showbackground": true,
            "ticks": "",
            "zerolinecolor": "white"
           },
           "yaxis": {
            "backgroundcolor": "#E5ECF6",
            "gridcolor": "white",
            "gridwidth": 2,
            "linecolor": "white",
            "showbackground": true,
            "ticks": "",
            "zerolinecolor": "white"
           },
           "zaxis": {
            "backgroundcolor": "#E5ECF6",
            "gridcolor": "white",
            "gridwidth": 2,
            "linecolor": "white",
            "showbackground": true,
            "ticks": "",
            "zerolinecolor": "white"
           }
          },
          "shapedefaults": {
           "line": {
            "color": "#2a3f5f"
           }
          },
          "ternary": {
           "aaxis": {
            "gridcolor": "white",
            "linecolor": "white",
            "ticks": ""
           },
           "baxis": {
            "gridcolor": "white",
            "linecolor": "white",
            "ticks": ""
           },
           "bgcolor": "#E5ECF6",
           "caxis": {
            "gridcolor": "white",
            "linecolor": "white",
            "ticks": ""
           }
          },
          "title": {
           "x": 0.05
          },
          "xaxis": {
           "automargin": true,
           "gridcolor": "white",
           "linecolor": "white",
           "ticks": "",
           "title": {
            "standoff": 15
           },
           "zerolinecolor": "white",
           "zerolinewidth": 2
          },
          "yaxis": {
           "automargin": true,
           "gridcolor": "white",
           "linecolor": "white",
           "ticks": "",
           "title": {
            "standoff": 15
           },
           "zerolinecolor": "white",
           "zerolinewidth": 2
          }
         }
        },
        "title": {
         "text": "Hyperparameter Importances"
        },
        "xaxis": {
         "title": {
          "text": "Importance for Objective Value"
         }
        },
        "yaxis": {
         "title": {
          "text": "Hyperparameter"
         }
        }
       }
      }
     },
     "metadata": {},
     "output_type": "display_data"
    }
   ],
   "source": [
    "optuna.visualization.plot_param_importances(study)"
   ]
  },
  {
   "cell_type": "code",
   "execution_count": 256,
   "metadata": {},
   "outputs": [
    {
     "data": {
      "application/vnd.plotly.v1+json": {
       "config": {
        "plotlyServerURL": "https://plot.ly"
       },
       "data": [
        {
         "mode": "markers",
         "name": "Objective Value",
         "type": "scatter",
         "x": [
          0,
          1,
          2,
          3,
          4,
          5,
          6,
          7,
          8,
          9,
          10,
          11,
          12,
          13,
          14,
          15,
          16,
          17,
          18,
          19,
          20,
          21,
          22,
          23,
          24,
          25,
          26,
          27,
          28,
          29,
          30,
          31,
          32,
          33,
          34,
          35,
          36,
          37,
          38,
          39,
          40,
          41,
          42,
          43,
          44,
          45,
          46,
          47,
          48,
          49,
          50,
          51,
          52,
          53,
          54,
          55,
          56,
          57,
          58,
          59,
          60,
          61,
          62,
          63,
          64,
          65,
          66,
          67,
          68,
          69,
          70,
          71,
          72,
          73,
          74,
          75,
          76,
          77,
          78,
          79,
          80,
          81,
          82,
          83,
          84,
          85,
          86,
          87,
          88,
          89,
          90,
          91,
          92,
          93,
          94,
          95,
          96,
          97,
          98,
          99
         ],
         "y": [
          0.935672514619883,
          0.9351669941060903,
          0.974074074074074,
          0.9650092081031306,
          0.9688073394495412,
          0.9566787003610108,
          0.9760589318600369,
          0.981203007518797,
          0.9549549549549551,
          0.8307210031347962,
          0.9636363636363636,
          0.9543726235741445,
          0.96,
          0.9760589318600369,
          0.981203007518797,
          0.9721706864564008,
          0.981203007518797,
          0.9507575757575758,
          0.9723756906077348,
          0.981203007518797,
          0.974074074074074,
          0.9434697855750488,
          0.9812734082397004,
          0.9812734082397004,
          0.9703703703703703,
          0.983177570093458,
          0.974074074074074,
          0.9652650822669103,
          0.9416342412451363,
          0.974074074074074,
          0.9776951672862454,
          0.983177570093458,
          0.9242718446601942,
          0.983177570093458,
          0.974074074074074,
          0.981203007518797,
          0.9721706864564008,
          0.9333333333333333,
          0.9850746268656716,
          0.9584086799276672,
          0.9704797047970479,
          0.9372549019607843,
          0.9795158286778399,
          0.970260223048327,
          0.983177570093458,
          0.983177570093458,
          0.9652650822669103,
          0.9688073394495412,
          0.9773584905660377,
          0.9351669941060903,
          0.981203007518797,
          0.974074074074074,
          0.974169741697417,
          0.9850187265917603,
          0.9242718446601942,
          0.9633699633699634,
          0.9831144465290808,
          0.9721706864564008,
          0.974169741697417,
          0.9436893203883495,
          0.9776951672862454,
          0.9832402234636872,
          0.9653916211293261,
          0.9792843691148777,
          0.979591836734694,
          0.974074074074074,
          0.974074074074074,
          0.9812734082397004,
          0.9721706864564008,
          0.9333333333333333,
          0.9795158286778399,
          0.9850746268656716,
          0.9850187265917603,
          0.981203007518797,
          0.9850746268656716,
          0.9776119402985075,
          0.9812734082397004,
          0.9850746268656716,
          0.974074074074074,
          0.9812734082397004,
          0.9703703703703703,
          0.983177570093458,
          0.9850746268656716,
          0.9795158286778399,
          0.9814126394052045,
          0.9703703703703703,
          0.981203007518797,
          0.9705882352941178,
          0.9296875,
          0.9723756906077348,
          0.9323017408123792,
          0.983177570093458,
          0.981203007518797,
          0.9831144465290808,
          0.9850187265917603,
          0.983177570093458,
          0.9333333333333333,
          0.9776951672862454,
          0.9351669941060903,
          0.9457364341085271
         ]
        },
        {
         "name": "Best Value",
         "type": "scatter",
         "x": [
          0,
          1,
          2,
          3,
          4,
          5,
          6,
          7,
          8,
          9,
          10,
          11,
          12,
          13,
          14,
          15,
          16,
          17,
          18,
          19,
          20,
          21,
          22,
          23,
          24,
          25,
          26,
          27,
          28,
          29,
          30,
          31,
          32,
          33,
          34,
          35,
          36,
          37,
          38,
          39,
          40,
          41,
          42,
          43,
          44,
          45,
          46,
          47,
          48,
          49,
          50,
          51,
          52,
          53,
          54,
          55,
          56,
          57,
          58,
          59,
          60,
          61,
          62,
          63,
          64,
          65,
          66,
          67,
          68,
          69,
          70,
          71,
          72,
          73,
          74,
          75,
          76,
          77,
          78,
          79,
          80,
          81,
          82,
          83,
          84,
          85,
          86,
          87,
          88,
          89,
          90,
          91,
          92,
          93,
          94,
          95,
          96,
          97,
          98,
          99
         ],
         "y": [
          0.935672514619883,
          0.935672514619883,
          0.974074074074074,
          0.974074074074074,
          0.974074074074074,
          0.974074074074074,
          0.9760589318600369,
          0.981203007518797,
          0.981203007518797,
          0.981203007518797,
          0.981203007518797,
          0.981203007518797,
          0.981203007518797,
          0.981203007518797,
          0.981203007518797,
          0.981203007518797,
          0.981203007518797,
          0.981203007518797,
          0.981203007518797,
          0.981203007518797,
          0.981203007518797,
          0.981203007518797,
          0.9812734082397004,
          0.9812734082397004,
          0.9812734082397004,
          0.983177570093458,
          0.983177570093458,
          0.983177570093458,
          0.983177570093458,
          0.983177570093458,
          0.983177570093458,
          0.983177570093458,
          0.983177570093458,
          0.983177570093458,
          0.983177570093458,
          0.983177570093458,
          0.983177570093458,
          0.983177570093458,
          0.9850746268656716,
          0.9850746268656716,
          0.9850746268656716,
          0.9850746268656716,
          0.9850746268656716,
          0.9850746268656716,
          0.9850746268656716,
          0.9850746268656716,
          0.9850746268656716,
          0.9850746268656716,
          0.9850746268656716,
          0.9850746268656716,
          0.9850746268656716,
          0.9850746268656716,
          0.9850746268656716,
          0.9850746268656716,
          0.9850746268656716,
          0.9850746268656716,
          0.9850746268656716,
          0.9850746268656716,
          0.9850746268656716,
          0.9850746268656716,
          0.9850746268656716,
          0.9850746268656716,
          0.9850746268656716,
          0.9850746268656716,
          0.9850746268656716,
          0.9850746268656716,
          0.9850746268656716,
          0.9850746268656716,
          0.9850746268656716,
          0.9850746268656716,
          0.9850746268656716,
          0.9850746268656716,
          0.9850746268656716,
          0.9850746268656716,
          0.9850746268656716,
          0.9850746268656716,
          0.9850746268656716,
          0.9850746268656716,
          0.9850746268656716,
          0.9850746268656716,
          0.9850746268656716,
          0.9850746268656716,
          0.9850746268656716,
          0.9850746268656716,
          0.9850746268656716,
          0.9850746268656716,
          0.9850746268656716,
          0.9850746268656716,
          0.9850746268656716,
          0.9850746268656716,
          0.9850746268656716,
          0.9850746268656716,
          0.9850746268656716,
          0.9850746268656716,
          0.9850746268656716,
          0.9850746268656716,
          0.9850746268656716,
          0.9850746268656716,
          0.9850746268656716,
          0.9850746268656716
         ]
        }
       ],
       "layout": {
        "template": {
         "data": {
          "bar": [
           {
            "error_x": {
             "color": "#2a3f5f"
            },
            "error_y": {
             "color": "#2a3f5f"
            },
            "marker": {
             "line": {
              "color": "#E5ECF6",
              "width": 0.5
             },
             "pattern": {
              "fillmode": "overlay",
              "size": 10,
              "solidity": 0.2
             }
            },
            "type": "bar"
           }
          ],
          "barpolar": [
           {
            "marker": {
             "line": {
              "color": "#E5ECF6",
              "width": 0.5
             },
             "pattern": {
              "fillmode": "overlay",
              "size": 10,
              "solidity": 0.2
             }
            },
            "type": "barpolar"
           }
          ],
          "carpet": [
           {
            "aaxis": {
             "endlinecolor": "#2a3f5f",
             "gridcolor": "white",
             "linecolor": "white",
             "minorgridcolor": "white",
             "startlinecolor": "#2a3f5f"
            },
            "baxis": {
             "endlinecolor": "#2a3f5f",
             "gridcolor": "white",
             "linecolor": "white",
             "minorgridcolor": "white",
             "startlinecolor": "#2a3f5f"
            },
            "type": "carpet"
           }
          ],
          "choropleth": [
           {
            "colorbar": {
             "outlinewidth": 0,
             "ticks": ""
            },
            "type": "choropleth"
           }
          ],
          "contour": [
           {
            "colorbar": {
             "outlinewidth": 0,
             "ticks": ""
            },
            "colorscale": [
             [
              0,
              "#0d0887"
             ],
             [
              0.1111111111111111,
              "#46039f"
             ],
             [
              0.2222222222222222,
              "#7201a8"
             ],
             [
              0.3333333333333333,
              "#9c179e"
             ],
             [
              0.4444444444444444,
              "#bd3786"
             ],
             [
              0.5555555555555556,
              "#d8576b"
             ],
             [
              0.6666666666666666,
              "#ed7953"
             ],
             [
              0.7777777777777778,
              "#fb9f3a"
             ],
             [
              0.8888888888888888,
              "#fdca26"
             ],
             [
              1,
              "#f0f921"
             ]
            ],
            "type": "contour"
           }
          ],
          "contourcarpet": [
           {
            "colorbar": {
             "outlinewidth": 0,
             "ticks": ""
            },
            "type": "contourcarpet"
           }
          ],
          "heatmap": [
           {
            "colorbar": {
             "outlinewidth": 0,
             "ticks": ""
            },
            "colorscale": [
             [
              0,
              "#0d0887"
             ],
             [
              0.1111111111111111,
              "#46039f"
             ],
             [
              0.2222222222222222,
              "#7201a8"
             ],
             [
              0.3333333333333333,
              "#9c179e"
             ],
             [
              0.4444444444444444,
              "#bd3786"
             ],
             [
              0.5555555555555556,
              "#d8576b"
             ],
             [
              0.6666666666666666,
              "#ed7953"
             ],
             [
              0.7777777777777778,
              "#fb9f3a"
             ],
             [
              0.8888888888888888,
              "#fdca26"
             ],
             [
              1,
              "#f0f921"
             ]
            ],
            "type": "heatmap"
           }
          ],
          "heatmapgl": [
           {
            "colorbar": {
             "outlinewidth": 0,
             "ticks": ""
            },
            "colorscale": [
             [
              0,
              "#0d0887"
             ],
             [
              0.1111111111111111,
              "#46039f"
             ],
             [
              0.2222222222222222,
              "#7201a8"
             ],
             [
              0.3333333333333333,
              "#9c179e"
             ],
             [
              0.4444444444444444,
              "#bd3786"
             ],
             [
              0.5555555555555556,
              "#d8576b"
             ],
             [
              0.6666666666666666,
              "#ed7953"
             ],
             [
              0.7777777777777778,
              "#fb9f3a"
             ],
             [
              0.8888888888888888,
              "#fdca26"
             ],
             [
              1,
              "#f0f921"
             ]
            ],
            "type": "heatmapgl"
           }
          ],
          "histogram": [
           {
            "marker": {
             "pattern": {
              "fillmode": "overlay",
              "size": 10,
              "solidity": 0.2
             }
            },
            "type": "histogram"
           }
          ],
          "histogram2d": [
           {
            "colorbar": {
             "outlinewidth": 0,
             "ticks": ""
            },
            "colorscale": [
             [
              0,
              "#0d0887"
             ],
             [
              0.1111111111111111,
              "#46039f"
             ],
             [
              0.2222222222222222,
              "#7201a8"
             ],
             [
              0.3333333333333333,
              "#9c179e"
             ],
             [
              0.4444444444444444,
              "#bd3786"
             ],
             [
              0.5555555555555556,
              "#d8576b"
             ],
             [
              0.6666666666666666,
              "#ed7953"
             ],
             [
              0.7777777777777778,
              "#fb9f3a"
             ],
             [
              0.8888888888888888,
              "#fdca26"
             ],
             [
              1,
              "#f0f921"
             ]
            ],
            "type": "histogram2d"
           }
          ],
          "histogram2dcontour": [
           {
            "colorbar": {
             "outlinewidth": 0,
             "ticks": ""
            },
            "colorscale": [
             [
              0,
              "#0d0887"
             ],
             [
              0.1111111111111111,
              "#46039f"
             ],
             [
              0.2222222222222222,
              "#7201a8"
             ],
             [
              0.3333333333333333,
              "#9c179e"
             ],
             [
              0.4444444444444444,
              "#bd3786"
             ],
             [
              0.5555555555555556,
              "#d8576b"
             ],
             [
              0.6666666666666666,
              "#ed7953"
             ],
             [
              0.7777777777777778,
              "#fb9f3a"
             ],
             [
              0.8888888888888888,
              "#fdca26"
             ],
             [
              1,
              "#f0f921"
             ]
            ],
            "type": "histogram2dcontour"
           }
          ],
          "mesh3d": [
           {
            "colorbar": {
             "outlinewidth": 0,
             "ticks": ""
            },
            "type": "mesh3d"
           }
          ],
          "parcoords": [
           {
            "line": {
             "colorbar": {
              "outlinewidth": 0,
              "ticks": ""
             }
            },
            "type": "parcoords"
           }
          ],
          "pie": [
           {
            "automargin": true,
            "type": "pie"
           }
          ],
          "scatter": [
           {
            "fillpattern": {
             "fillmode": "overlay",
             "size": 10,
             "solidity": 0.2
            },
            "type": "scatter"
           }
          ],
          "scatter3d": [
           {
            "line": {
             "colorbar": {
              "outlinewidth": 0,
              "ticks": ""
             }
            },
            "marker": {
             "colorbar": {
              "outlinewidth": 0,
              "ticks": ""
             }
            },
            "type": "scatter3d"
           }
          ],
          "scattercarpet": [
           {
            "marker": {
             "colorbar": {
              "outlinewidth": 0,
              "ticks": ""
             }
            },
            "type": "scattercarpet"
           }
          ],
          "scattergeo": [
           {
            "marker": {
             "colorbar": {
              "outlinewidth": 0,
              "ticks": ""
             }
            },
            "type": "scattergeo"
           }
          ],
          "scattergl": [
           {
            "marker": {
             "colorbar": {
              "outlinewidth": 0,
              "ticks": ""
             }
            },
            "type": "scattergl"
           }
          ],
          "scattermapbox": [
           {
            "marker": {
             "colorbar": {
              "outlinewidth": 0,
              "ticks": ""
             }
            },
            "type": "scattermapbox"
           }
          ],
          "scatterpolar": [
           {
            "marker": {
             "colorbar": {
              "outlinewidth": 0,
              "ticks": ""
             }
            },
            "type": "scatterpolar"
           }
          ],
          "scatterpolargl": [
           {
            "marker": {
             "colorbar": {
              "outlinewidth": 0,
              "ticks": ""
             }
            },
            "type": "scatterpolargl"
           }
          ],
          "scatterternary": [
           {
            "marker": {
             "colorbar": {
              "outlinewidth": 0,
              "ticks": ""
             }
            },
            "type": "scatterternary"
           }
          ],
          "surface": [
           {
            "colorbar": {
             "outlinewidth": 0,
             "ticks": ""
            },
            "colorscale": [
             [
              0,
              "#0d0887"
             ],
             [
              0.1111111111111111,
              "#46039f"
             ],
             [
              0.2222222222222222,
              "#7201a8"
             ],
             [
              0.3333333333333333,
              "#9c179e"
             ],
             [
              0.4444444444444444,
              "#bd3786"
             ],
             [
              0.5555555555555556,
              "#d8576b"
             ],
             [
              0.6666666666666666,
              "#ed7953"
             ],
             [
              0.7777777777777778,
              "#fb9f3a"
             ],
             [
              0.8888888888888888,
              "#fdca26"
             ],
             [
              1,
              "#f0f921"
             ]
            ],
            "type": "surface"
           }
          ],
          "table": [
           {
            "cells": {
             "fill": {
              "color": "#EBF0F8"
             },
             "line": {
              "color": "white"
             }
            },
            "header": {
             "fill": {
              "color": "#C8D4E3"
             },
             "line": {
              "color": "white"
             }
            },
            "type": "table"
           }
          ]
         },
         "layout": {
          "annotationdefaults": {
           "arrowcolor": "#2a3f5f",
           "arrowhead": 0,
           "arrowwidth": 1
          },
          "autotypenumbers": "strict",
          "coloraxis": {
           "colorbar": {
            "outlinewidth": 0,
            "ticks": ""
           }
          },
          "colorscale": {
           "diverging": [
            [
             0,
             "#8e0152"
            ],
            [
             0.1,
             "#c51b7d"
            ],
            [
             0.2,
             "#de77ae"
            ],
            [
             0.3,
             "#f1b6da"
            ],
            [
             0.4,
             "#fde0ef"
            ],
            [
             0.5,
             "#f7f7f7"
            ],
            [
             0.6,
             "#e6f5d0"
            ],
            [
             0.7,
             "#b8e186"
            ],
            [
             0.8,
             "#7fbc41"
            ],
            [
             0.9,
             "#4d9221"
            ],
            [
             1,
             "#276419"
            ]
           ],
           "sequential": [
            [
             0,
             "#0d0887"
            ],
            [
             0.1111111111111111,
             "#46039f"
            ],
            [
             0.2222222222222222,
             "#7201a8"
            ],
            [
             0.3333333333333333,
             "#9c179e"
            ],
            [
             0.4444444444444444,
             "#bd3786"
            ],
            [
             0.5555555555555556,
             "#d8576b"
            ],
            [
             0.6666666666666666,
             "#ed7953"
            ],
            [
             0.7777777777777778,
             "#fb9f3a"
            ],
            [
             0.8888888888888888,
             "#fdca26"
            ],
            [
             1,
             "#f0f921"
            ]
           ],
           "sequentialminus": [
            [
             0,
             "#0d0887"
            ],
            [
             0.1111111111111111,
             "#46039f"
            ],
            [
             0.2222222222222222,
             "#7201a8"
            ],
            [
             0.3333333333333333,
             "#9c179e"
            ],
            [
             0.4444444444444444,
             "#bd3786"
            ],
            [
             0.5555555555555556,
             "#d8576b"
            ],
            [
             0.6666666666666666,
             "#ed7953"
            ],
            [
             0.7777777777777778,
             "#fb9f3a"
            ],
            [
             0.8888888888888888,
             "#fdca26"
            ],
            [
             1,
             "#f0f921"
            ]
           ]
          },
          "colorway": [
           "#636efa",
           "#EF553B",
           "#00cc96",
           "#ab63fa",
           "#FFA15A",
           "#19d3f3",
           "#FF6692",
           "#B6E880",
           "#FF97FF",
           "#FECB52"
          ],
          "font": {
           "color": "#2a3f5f"
          },
          "geo": {
           "bgcolor": "white",
           "lakecolor": "white",
           "landcolor": "#E5ECF6",
           "showlakes": true,
           "showland": true,
           "subunitcolor": "white"
          },
          "hoverlabel": {
           "align": "left"
          },
          "hovermode": "closest",
          "mapbox": {
           "style": "light"
          },
          "paper_bgcolor": "white",
          "plot_bgcolor": "#E5ECF6",
          "polar": {
           "angularaxis": {
            "gridcolor": "white",
            "linecolor": "white",
            "ticks": ""
           },
           "bgcolor": "#E5ECF6",
           "radialaxis": {
            "gridcolor": "white",
            "linecolor": "white",
            "ticks": ""
           }
          },
          "scene": {
           "xaxis": {
            "backgroundcolor": "#E5ECF6",
            "gridcolor": "white",
            "gridwidth": 2,
            "linecolor": "white",
            "showbackground": true,
            "ticks": "",
            "zerolinecolor": "white"
           },
           "yaxis": {
            "backgroundcolor": "#E5ECF6",
            "gridcolor": "white",
            "gridwidth": 2,
            "linecolor": "white",
            "showbackground": true,
            "ticks": "",
            "zerolinecolor": "white"
           },
           "zaxis": {
            "backgroundcolor": "#E5ECF6",
            "gridcolor": "white",
            "gridwidth": 2,
            "linecolor": "white",
            "showbackground": true,
            "ticks": "",
            "zerolinecolor": "white"
           }
          },
          "shapedefaults": {
           "line": {
            "color": "#2a3f5f"
           }
          },
          "ternary": {
           "aaxis": {
            "gridcolor": "white",
            "linecolor": "white",
            "ticks": ""
           },
           "baxis": {
            "gridcolor": "white",
            "linecolor": "white",
            "ticks": ""
           },
           "bgcolor": "#E5ECF6",
           "caxis": {
            "gridcolor": "white",
            "linecolor": "white",
            "ticks": ""
           }
          },
          "title": {
           "x": 0.05
          },
          "xaxis": {
           "automargin": true,
           "gridcolor": "white",
           "linecolor": "white",
           "ticks": "",
           "title": {
            "standoff": 15
           },
           "zerolinecolor": "white",
           "zerolinewidth": 2
          },
          "yaxis": {
           "automargin": true,
           "gridcolor": "white",
           "linecolor": "white",
           "ticks": "",
           "title": {
            "standoff": 15
           },
           "zerolinecolor": "white",
           "zerolinewidth": 2
          }
         }
        },
        "title": {
         "text": "Optimization History Plot"
        },
        "xaxis": {
         "title": {
          "text": "#Trials"
         }
        },
        "yaxis": {
         "title": {
          "text": "Objective Value"
         }
        }
       }
      }
     },
     "metadata": {},
     "output_type": "display_data"
    }
   ],
   "source": [
    "optuna.visualization.plot_optimization_history(study)"
   ]
  },
  {
   "cell_type": "code",
   "execution_count": 257,
   "metadata": {},
   "outputs": [
    {
     "data": {
      "application/vnd.plotly.v1+json": {
       "config": {
        "plotlyServerURL": "https://plot.ly"
       },
       "data": [
        {
         "dimensions": [
          {
           "label": "Objective Value",
           "range": [
            0.8307210031347962,
            0.9850746268656716
           ],
           "values": [
            0.935672514619883,
            0.9351669941060903,
            0.974074074074074,
            0.9650092081031306,
            0.9688073394495412,
            0.9566787003610108,
            0.9760589318600369,
            0.981203007518797,
            0.9549549549549551,
            0.8307210031347962,
            0.9636363636363636,
            0.9543726235741445,
            0.96,
            0.9760589318600369,
            0.981203007518797,
            0.9721706864564008,
            0.981203007518797,
            0.9507575757575758,
            0.9723756906077348,
            0.981203007518797,
            0.974074074074074,
            0.9434697855750488,
            0.9812734082397004,
            0.9812734082397004,
            0.9703703703703703,
            0.983177570093458,
            0.974074074074074,
            0.9652650822669103,
            0.9416342412451363,
            0.974074074074074,
            0.9776951672862454,
            0.983177570093458,
            0.9242718446601942,
            0.983177570093458,
            0.974074074074074,
            0.981203007518797,
            0.9721706864564008,
            0.9333333333333333,
            0.9850746268656716,
            0.9584086799276672,
            0.9704797047970479,
            0.9372549019607843,
            0.9795158286778399,
            0.970260223048327,
            0.983177570093458,
            0.983177570093458,
            0.9652650822669103,
            0.9688073394495412,
            0.9773584905660377,
            0.9351669941060903,
            0.981203007518797,
            0.974074074074074,
            0.974169741697417,
            0.9850187265917603,
            0.9242718446601942,
            0.9633699633699634,
            0.9831144465290808,
            0.9721706864564008,
            0.974169741697417,
            0.9436893203883495,
            0.9776951672862454,
            0.9832402234636872,
            0.9653916211293261,
            0.9792843691148777,
            0.979591836734694,
            0.974074074074074,
            0.974074074074074,
            0.9812734082397004,
            0.9721706864564008,
            0.9333333333333333,
            0.9795158286778399,
            0.9850746268656716,
            0.9850187265917603,
            0.981203007518797,
            0.9850746268656716,
            0.9776119402985075,
            0.9812734082397004,
            0.9850746268656716,
            0.974074074074074,
            0.9812734082397004,
            0.9703703703703703,
            0.983177570093458,
            0.9850746268656716,
            0.9795158286778399,
            0.9814126394052045,
            0.9703703703703703,
            0.981203007518797,
            0.9705882352941178,
            0.9296875,
            0.9723756906077348,
            0.9323017408123792,
            0.983177570093458,
            0.981203007518797,
            0.9831144465290808,
            0.9850187265917603,
            0.983177570093458,
            0.9333333333333333,
            0.9776951672862454,
            0.9351669941060903,
            0.9457364341085271
           ]
          },
          {
           "label": "eta",
           "range": [
            -1.9647076636605243,
            -0.01310899890944168
           ],
           "ticktext": [
            "0.0108",
            "0.1",
            "0.97"
           ],
           "tickvals": [
            -1.9647076636605243,
            -1,
            -0.01310899890944168
           ],
           "values": [
            -0.025188394339190463,
            -1.54495518103076,
            -0.8975565876297851,
            -0.0791928187689665,
            -0.2778736311517687,
            -1.3278912719938614,
            -0.23489200032149446,
            -1.3120659311904592,
            -0.46242075317446846,
            -1.5318623974690273,
            -0.9297940644372727,
            -0.6260739954435005,
            -1.923117608192687,
            -1.1496230623688148,
            -0.6834614975701118,
            -0.7262029872988219,
            -1.2089107161381714,
            -0.6931594748100167,
            -1.9647076636605243,
            -1.230718875634134,
            -1.6249170286006396,
            -1.058280718241269,
            -1.2777400722379273,
            -0.8625943581934664,
            -0.8321360424087465,
            -1.385840622080119,
            -1.7485656037107917,
            -1.4136742288195672,
            -1.0557324376742827,
            -1.7796436875324335,
            -1.4241884269006422,
            -1.3495074542805,
            -1.1119213280904707,
            -1.4794388602902904,
            -1.6045983712703444,
            -1.4848541068449888,
            -0.9441835789746795,
            -1.6785801138131877,
            -1.3540636446928063,
            -1.3779297933167216,
            -1.8598050883936281,
            -1.2523490503294061,
            -1.5186455869154476,
            -0.8304813773920362,
            -1.3420236923328517,
            -1.346903841731678,
            -1.4475402211372475,
            -1.3492959088541856,
            -1.14084233930132,
            -1.5711256022308924,
            -1.3102213123416078,
            -1.505987300783481,
            -1.1923884775366007,
            -1.3433880067552755,
            -1.6479799938976623,
            -1.7069077434989117,
            -1.0599513219210719,
            -0.01310899890944168,
            -1.2808338648811155,
            -0.3512507468891881,
            -1.4426257097047344,
            -1.3582463132068499,
            -1.3383238354812463,
            -1.188103619119531,
            -1.3746902172814925,
            -1.5537284842282606,
            -1.4669840517481514,
            -1.224455800294129,
            -1.1057556557564525,
            -1.391281443752502,
            -1.5931255006429017,
            -1.2980616352834358,
            -1.3184930067502663,
            -1.2781827649038218,
            -1.3143791460597878,
            -0.979941288689696,
            -1.190592653733461,
            -1.3254487315579355,
            -1.4966386807151555,
            -1.2545037428178647,
            -1.0870804226667685,
            -1.4352109085909721,
            -1.301754077576259,
            -1.405384704638218,
            -1.300926452777477,
            -1.144545094706218,
            -1.2151544290701546,
            -1.3070303904904619,
            -1.513389482203305,
            -1.1669182026869331,
            -0.1008026489483367,
            -1.427683581391309,
            -1.358051967999567,
            -1.2485269791920302,
            -1.4177642568467266,
            -1.5579548347702552,
            -1.0273792540449882,
            -1.4701072315745356,
            -1.320692684178545,
            -0.5420135079864999
           ]
          },
          {
           "label": "gamma",
           "range": [
            0.03710988793351788,
            9.733120703708895
           ],
           "values": [
            6.739557843011229,
            5.835515064032015,
            0.7921183575983304,
            3.01223656113927,
            0.5607353864766007,
            4.563466545056132,
            6.723275619551254,
            3.508348425853799,
            8.600877374566448,
            4.149051914218592,
            2.6583089919666385,
            7.829138769684979,
            9.402356537360715,
            6.780739912962915,
            3.0267385890098835,
            2.0639385283358993,
            3.628523932201533,
            1.7527107720882211,
            4.111022947713249,
            5.362117729240657,
            5.274332634841413,
            3.222422973642871,
            5.453814846717935,
            5.614097942707916,
            6.016359595770849,
            7.453545192109921,
            7.604184232981527,
            9.733120703708895,
            7.7851961909010186,
            6.824443222750796,
            6.148320945541405,
            4.823248829269247,
            4.758794685684188,
            5.523627605213932,
            7.273460715073033,
            8.770859156679279,
            6.205001861870858,
            4.470846395130667,
            0.03710988793351788,
            0.14035891556424418,
            1.2719627823437303,
            8.58964150332954,
            5.139898045112146,
            2.5409188911212937,
            6.492988339958463,
            6.521510977748723,
            8.1425187855066,
            7.167133354687432,
            6.504123289545372,
            5.803829888551553,
            7.344507599581248,
            6.59583956258437,
            8.187974614235923,
            6.967349836662852,
            7.061228282163382,
            6.446975611877517,
            3.994583554313923,
            4.968290989679169,
            0.9576075687115946,
            5.964553995136802,
            9.117338085877076,
            6.964513194574652,
            6.902919953942607,
            5.69841354881762,
            7.478307368493163,
            7.86939401190895,
            8.361841895008148,
            6.236817553088826,
            4.375501377162134,
            7.801652870423626,
            1.9543164924099339,
            6.935565316975159,
            6.87669435042332,
            7.0676780373317305,
            6.4423998488819665,
            6.392677391585834,
            6.7837749811278485,
            6.748471211868297,
            5.393475193926873,
            7.303965816725183,
            7.6650372927953185,
            6.8418386694165925,
            6.890322227641568,
            7.545002910982919,
            6.052940570129253,
            8.018654720800264,
            7.002576171215359,
            6.669755720690302,
            6.30490307371907,
            5.836529850578744,
            7.189501784696466,
            6.927492624557527,
            6.683558207900638,
            7.409413077883172,
            7.04907639311234,
            6.576569973644084,
            6.232414522008499,
            5.650844195088968,
            7.159903763129272,
            7.580833964555505
           ]
          },
          {
           "label": "max_depth",
           "range": [
            2,
            50
           ],
           "values": [
            28,
            5,
            11,
            31,
            10,
            32,
            26,
            30,
            8,
            37,
            49,
            19,
            20,
            44,
            20,
            17,
            38,
            39,
            36,
            45,
            22,
            32,
            43,
            49,
            50,
            44,
            45,
            42,
            48,
            41,
            47,
            34,
            35,
            41,
            40,
            34,
            46,
            29,
            50,
            2,
            42,
            43,
            39,
            50,
            26,
            24,
            24,
            28,
            14,
            26,
            33,
            24,
            27,
            37,
            37,
            30,
            36,
            22,
            47,
            15,
            44,
            40,
            32,
            39,
            18,
            41,
            45,
            10,
            34,
            37,
            48,
            40,
            31,
            31,
            24,
            22,
            24,
            28,
            38,
            29,
            35,
            40,
            21,
            43,
            21,
            28,
            31,
            26,
            41,
            19,
            27,
            20,
            23,
            35,
            25,
            25,
            25,
            38,
            17,
            45
           ]
          },
          {
           "label": "min_child_weight",
           "range": [
            1,
            49
           ],
           "values": [
            8,
            1,
            15,
            41,
            46,
            17,
            48,
            11,
            16,
            35,
            30,
            24,
            49,
            26,
            1,
            2,
            8,
            5,
            10,
            11,
            21,
            6,
            12,
            13,
            20,
            13,
            14,
            29,
            20,
            14,
            24,
            11,
            5,
            12,
            18,
            9,
            13,
            7,
            17,
            17,
            18,
            11,
            15,
            3,
            12,
            9,
            37,
            22,
            8,
            3,
            9,
            17,
            15,
            11,
            5,
            43,
            11,
            7,
            13,
            10,
            19,
            16,
            16,
            9,
            22,
            15,
            27,
            13,
            11,
            7,
            16,
            14,
            12,
            10,
            12,
            19,
            12,
            14,
            18,
            14,
            16,
            12,
            14,
            14,
            21,
            14,
            10,
            17,
            8,
            34,
            15,
            12,
            6,
            13,
            9,
            9,
            5,
            19,
            8,
            16
           ]
          },
          {
           "label": "scale_pos_weight",
           "range": [
            3.1760648070883164,
            49.930903155353406
           ],
           "values": [
            21.21039518269262,
            5.437251024492387,
            22.471593506230104,
            27.390901754589688,
            37.201598548889095,
            7.0752966183867185,
            11.080829792679365,
            41.29660829912141,
            29.696337989142997,
            44.596772866449015,
            48.16516595928848,
            14.745883652775266,
            35.72279087406012,
            11.873797331262303,
            40.166398776303694,
            39.84276122208175,
            49.930903155353406,
            48.867028349451886,
            33.807480120564406,
            43.03406474705462,
            31.1808790361591,
            41.74087120788695,
            45.159167660870516,
            45.77971995473146,
            45.92828679115745,
            38.31652328355971,
            36.76340099769582,
            45.525779093160416,
            32.065839128779565,
            23.47447480932345,
            38.64919713850175,
            42.80004622968168,
            45.90987114888626,
            43.1277284419669,
            34.39724314329857,
            43.14007615879685,
            38.27753443011964,
            17.96313984116898,
            26.189327078819705,
            21.171503057005957,
            26.25713728229318,
            3.1760648070883164,
            29.43892256792237,
            48.03052403932371,
            42.58362226408677,
            41.99634614272527,
            35.70251997812102,
            39.981741627063705,
            29.311693572067448,
            8.985732454105545,
            18.956411610730484,
            42.24883508115534,
            38.20745403788695,
            43.296288833113266,
            47.672729877557245,
            40.715914241174815,
            43.677594817267845,
            49.871363264594315,
            32.77442527022883,
            47.14506849150966,
            36.77077886515887,
            43.904850937626726,
            41.38670341143552,
            44.531991894917226,
            40.274793957414886,
            44.27701340259477,
            39.02082108967375,
            46.672930745226346,
            42.77667265509234,
            35.26995795631458,
            13.47444395791261,
            42.5103624494547,
            41.686494301149956,
            37.53162183082923,
            41.559774588776776,
            41.12870054166242,
            44.92764166183281,
            39.51029141103367,
            44.022850815278126,
            39.801478592559704,
            46.11813427148997,
            48.917615145685616,
            48.9667063001082,
            38.98092909350344,
            23.838547890401575,
            33.70436375530939,
            49.1606111972468,
            47.050594035547626,
            45.36656992164212,
            28.14348990625815,
            41.72212665747735,
            47.69769737257402,
            48.835047423951345,
            43.718371472453406,
            42.18455247059783,
            41.67740129883464,
            37.17106081692515,
            43.353747090384296,
            39.616317611527776,
            36.05146194900525
           ]
          },
          {
           "label": "subsample",
           "range": [
            0.12415301710977376,
            0.9994323956635385
           ],
           "values": [
            0.7360428142478885,
            0.852977579521343,
            0.2503948505048395,
            0.9680949797580385,
            0.7235210834837904,
            0.12415301710977376,
            0.8070879875994446,
            0.9246133864520374,
            0.1336289476818462,
            0.1411684709241471,
            0.4831599162274671,
            0.9602885765507264,
            0.655156705285051,
            0.49360245753682885,
            0.7981579115641381,
            0.601951513774146,
            0.8816791243718818,
            0.834956478034913,
            0.37661025720529506,
            0.9881103721046938,
            0.7627095570938244,
            0.891801514017144,
            0.9994323956635385,
            0.9964750774296497,
            0.9883019409487486,
            0.9081518510604291,
            0.9089821772007165,
            0.688030368427974,
            0.995024626044749,
            0.770310137501145,
            0.9081740686638893,
            0.9291211398147432,
            0.8587339882924074,
            0.9273738959715472,
            0.8366272985637746,
            0.9436120856092853,
            0.7071161206825782,
            0.852798029621276,
            0.9280971750601683,
            0.3023437459402114,
            0.6301456539544894,
            0.9386493530219469,
            0.92812831359543,
            0.8044646923676575,
            0.8712895820252005,
            0.8743621703888224,
            0.7755832533749121,
            0.7267589789385228,
            0.8771352021621125,
            0.8313458736638635,
            0.9614256607027336,
            0.9221571389989903,
            0.5543713471467139,
            0.8746666955987317,
            0.807154949436093,
            0.8793275091048355,
            0.9597552776970325,
            0.8652305663139364,
            0.41284926966251567,
            0.7551780940951631,
            0.8194132799511467,
            0.8942836444848019,
            0.17304321879194906,
            0.9497225167289859,
            0.8962717593365355,
            0.9148210809456448,
            0.9701882631561135,
            0.7843242037951114,
            0.85025193164638,
            0.8923212709635736,
            0.9744711690163974,
            0.9080749225293682,
            0.932537892124701,
            0.9043865120145691,
            0.8687719605337153,
            0.8674559555472344,
            0.8343723433914619,
            0.7971009241471625,
            0.9395702832670751,
            0.9024823101134821,
            0.7464220269689898,
            0.9325347180524317,
            0.8458990623078297,
            0.7922717443518406,
            0.845388613369379,
            0.8219079826637918,
            0.9802627070225338,
            0.675787241987777,
            0.9486313187342873,
            0.8848128615906329,
            0.8583791941337233,
            0.9213504707685398,
            0.8077556491817459,
            0.8854474169498009,
            0.9214594098423738,
            0.8596011713816011,
            0.8414067189817365,
            0.9603833923540371,
            0.9094518341983681,
            0.9903824588008197
           ]
          }
         ],
         "labelangle": 30,
         "labelside": "bottom",
         "line": {
          "color": [
           0.935672514619883,
           0.9351669941060903,
           0.974074074074074,
           0.9650092081031306,
           0.9688073394495412,
           0.9566787003610108,
           0.9760589318600369,
           0.981203007518797,
           0.9549549549549551,
           0.8307210031347962,
           0.9636363636363636,
           0.9543726235741445,
           0.96,
           0.9760589318600369,
           0.981203007518797,
           0.9721706864564008,
           0.981203007518797,
           0.9507575757575758,
           0.9723756906077348,
           0.981203007518797,
           0.974074074074074,
           0.9434697855750488,
           0.9812734082397004,
           0.9812734082397004,
           0.9703703703703703,
           0.983177570093458,
           0.974074074074074,
           0.9652650822669103,
           0.9416342412451363,
           0.974074074074074,
           0.9776951672862454,
           0.983177570093458,
           0.9242718446601942,
           0.983177570093458,
           0.974074074074074,
           0.981203007518797,
           0.9721706864564008,
           0.9333333333333333,
           0.9850746268656716,
           0.9584086799276672,
           0.9704797047970479,
           0.9372549019607843,
           0.9795158286778399,
           0.970260223048327,
           0.983177570093458,
           0.983177570093458,
           0.9652650822669103,
           0.9688073394495412,
           0.9773584905660377,
           0.9351669941060903,
           0.981203007518797,
           0.974074074074074,
           0.974169741697417,
           0.9850187265917603,
           0.9242718446601942,
           0.9633699633699634,
           0.9831144465290808,
           0.9721706864564008,
           0.974169741697417,
           0.9436893203883495,
           0.9776951672862454,
           0.9832402234636872,
           0.9653916211293261,
           0.9792843691148777,
           0.979591836734694,
           0.974074074074074,
           0.974074074074074,
           0.9812734082397004,
           0.9721706864564008,
           0.9333333333333333,
           0.9795158286778399,
           0.9850746268656716,
           0.9850187265917603,
           0.981203007518797,
           0.9850746268656716,
           0.9776119402985075,
           0.9812734082397004,
           0.9850746268656716,
           0.974074074074074,
           0.9812734082397004,
           0.9703703703703703,
           0.983177570093458,
           0.9850746268656716,
           0.9795158286778399,
           0.9814126394052045,
           0.9703703703703703,
           0.981203007518797,
           0.9705882352941178,
           0.9296875,
           0.9723756906077348,
           0.9323017408123792,
           0.983177570093458,
           0.981203007518797,
           0.9831144465290808,
           0.9850187265917603,
           0.983177570093458,
           0.9333333333333333,
           0.9776951672862454,
           0.9351669941060903,
           0.9457364341085271
          ],
          "colorbar": {
           "title": {
            "text": "Objective Value"
           }
          },
          "colorscale": [
           [
            0,
            "rgb(247,251,255)"
           ],
           [
            0.125,
            "rgb(222,235,247)"
           ],
           [
            0.25,
            "rgb(198,219,239)"
           ],
           [
            0.375,
            "rgb(158,202,225)"
           ],
           [
            0.5,
            "rgb(107,174,214)"
           ],
           [
            0.625,
            "rgb(66,146,198)"
           ],
           [
            0.75,
            "rgb(33,113,181)"
           ],
           [
            0.875,
            "rgb(8,81,156)"
           ],
           [
            1,
            "rgb(8,48,107)"
           ]
          ],
          "reversescale": false,
          "showscale": true
         },
         "type": "parcoords"
        }
       ],
       "layout": {
        "template": {
         "data": {
          "bar": [
           {
            "error_x": {
             "color": "#2a3f5f"
            },
            "error_y": {
             "color": "#2a3f5f"
            },
            "marker": {
             "line": {
              "color": "#E5ECF6",
              "width": 0.5
             },
             "pattern": {
              "fillmode": "overlay",
              "size": 10,
              "solidity": 0.2
             }
            },
            "type": "bar"
           }
          ],
          "barpolar": [
           {
            "marker": {
             "line": {
              "color": "#E5ECF6",
              "width": 0.5
             },
             "pattern": {
              "fillmode": "overlay",
              "size": 10,
              "solidity": 0.2
             }
            },
            "type": "barpolar"
           }
          ],
          "carpet": [
           {
            "aaxis": {
             "endlinecolor": "#2a3f5f",
             "gridcolor": "white",
             "linecolor": "white",
             "minorgridcolor": "white",
             "startlinecolor": "#2a3f5f"
            },
            "baxis": {
             "endlinecolor": "#2a3f5f",
             "gridcolor": "white",
             "linecolor": "white",
             "minorgridcolor": "white",
             "startlinecolor": "#2a3f5f"
            },
            "type": "carpet"
           }
          ],
          "choropleth": [
           {
            "colorbar": {
             "outlinewidth": 0,
             "ticks": ""
            },
            "type": "choropleth"
           }
          ],
          "contour": [
           {
            "colorbar": {
             "outlinewidth": 0,
             "ticks": ""
            },
            "colorscale": [
             [
              0,
              "#0d0887"
             ],
             [
              0.1111111111111111,
              "#46039f"
             ],
             [
              0.2222222222222222,
              "#7201a8"
             ],
             [
              0.3333333333333333,
              "#9c179e"
             ],
             [
              0.4444444444444444,
              "#bd3786"
             ],
             [
              0.5555555555555556,
              "#d8576b"
             ],
             [
              0.6666666666666666,
              "#ed7953"
             ],
             [
              0.7777777777777778,
              "#fb9f3a"
             ],
             [
              0.8888888888888888,
              "#fdca26"
             ],
             [
              1,
              "#f0f921"
             ]
            ],
            "type": "contour"
           }
          ],
          "contourcarpet": [
           {
            "colorbar": {
             "outlinewidth": 0,
             "ticks": ""
            },
            "type": "contourcarpet"
           }
          ],
          "heatmap": [
           {
            "colorbar": {
             "outlinewidth": 0,
             "ticks": ""
            },
            "colorscale": [
             [
              0,
              "#0d0887"
             ],
             [
              0.1111111111111111,
              "#46039f"
             ],
             [
              0.2222222222222222,
              "#7201a8"
             ],
             [
              0.3333333333333333,
              "#9c179e"
             ],
             [
              0.4444444444444444,
              "#bd3786"
             ],
             [
              0.5555555555555556,
              "#d8576b"
             ],
             [
              0.6666666666666666,
              "#ed7953"
             ],
             [
              0.7777777777777778,
              "#fb9f3a"
             ],
             [
              0.8888888888888888,
              "#fdca26"
             ],
             [
              1,
              "#f0f921"
             ]
            ],
            "type": "heatmap"
           }
          ],
          "heatmapgl": [
           {
            "colorbar": {
             "outlinewidth": 0,
             "ticks": ""
            },
            "colorscale": [
             [
              0,
              "#0d0887"
             ],
             [
              0.1111111111111111,
              "#46039f"
             ],
             [
              0.2222222222222222,
              "#7201a8"
             ],
             [
              0.3333333333333333,
              "#9c179e"
             ],
             [
              0.4444444444444444,
              "#bd3786"
             ],
             [
              0.5555555555555556,
              "#d8576b"
             ],
             [
              0.6666666666666666,
              "#ed7953"
             ],
             [
              0.7777777777777778,
              "#fb9f3a"
             ],
             [
              0.8888888888888888,
              "#fdca26"
             ],
             [
              1,
              "#f0f921"
             ]
            ],
            "type": "heatmapgl"
           }
          ],
          "histogram": [
           {
            "marker": {
             "pattern": {
              "fillmode": "overlay",
              "size": 10,
              "solidity": 0.2
             }
            },
            "type": "histogram"
           }
          ],
          "histogram2d": [
           {
            "colorbar": {
             "outlinewidth": 0,
             "ticks": ""
            },
            "colorscale": [
             [
              0,
              "#0d0887"
             ],
             [
              0.1111111111111111,
              "#46039f"
             ],
             [
              0.2222222222222222,
              "#7201a8"
             ],
             [
              0.3333333333333333,
              "#9c179e"
             ],
             [
              0.4444444444444444,
              "#bd3786"
             ],
             [
              0.5555555555555556,
              "#d8576b"
             ],
             [
              0.6666666666666666,
              "#ed7953"
             ],
             [
              0.7777777777777778,
              "#fb9f3a"
             ],
             [
              0.8888888888888888,
              "#fdca26"
             ],
             [
              1,
              "#f0f921"
             ]
            ],
            "type": "histogram2d"
           }
          ],
          "histogram2dcontour": [
           {
            "colorbar": {
             "outlinewidth": 0,
             "ticks": ""
            },
            "colorscale": [
             [
              0,
              "#0d0887"
             ],
             [
              0.1111111111111111,
              "#46039f"
             ],
             [
              0.2222222222222222,
              "#7201a8"
             ],
             [
              0.3333333333333333,
              "#9c179e"
             ],
             [
              0.4444444444444444,
              "#bd3786"
             ],
             [
              0.5555555555555556,
              "#d8576b"
             ],
             [
              0.6666666666666666,
              "#ed7953"
             ],
             [
              0.7777777777777778,
              "#fb9f3a"
             ],
             [
              0.8888888888888888,
              "#fdca26"
             ],
             [
              1,
              "#f0f921"
             ]
            ],
            "type": "histogram2dcontour"
           }
          ],
          "mesh3d": [
           {
            "colorbar": {
             "outlinewidth": 0,
             "ticks": ""
            },
            "type": "mesh3d"
           }
          ],
          "parcoords": [
           {
            "line": {
             "colorbar": {
              "outlinewidth": 0,
              "ticks": ""
             }
            },
            "type": "parcoords"
           }
          ],
          "pie": [
           {
            "automargin": true,
            "type": "pie"
           }
          ],
          "scatter": [
           {
            "fillpattern": {
             "fillmode": "overlay",
             "size": 10,
             "solidity": 0.2
            },
            "type": "scatter"
           }
          ],
          "scatter3d": [
           {
            "line": {
             "colorbar": {
              "outlinewidth": 0,
              "ticks": ""
             }
            },
            "marker": {
             "colorbar": {
              "outlinewidth": 0,
              "ticks": ""
             }
            },
            "type": "scatter3d"
           }
          ],
          "scattercarpet": [
           {
            "marker": {
             "colorbar": {
              "outlinewidth": 0,
              "ticks": ""
             }
            },
            "type": "scattercarpet"
           }
          ],
          "scattergeo": [
           {
            "marker": {
             "colorbar": {
              "outlinewidth": 0,
              "ticks": ""
             }
            },
            "type": "scattergeo"
           }
          ],
          "scattergl": [
           {
            "marker": {
             "colorbar": {
              "outlinewidth": 0,
              "ticks": ""
             }
            },
            "type": "scattergl"
           }
          ],
          "scattermapbox": [
           {
            "marker": {
             "colorbar": {
              "outlinewidth": 0,
              "ticks": ""
             }
            },
            "type": "scattermapbox"
           }
          ],
          "scatterpolar": [
           {
            "marker": {
             "colorbar": {
              "outlinewidth": 0,
              "ticks": ""
             }
            },
            "type": "scatterpolar"
           }
          ],
          "scatterpolargl": [
           {
            "marker": {
             "colorbar": {
              "outlinewidth": 0,
              "ticks": ""
             }
            },
            "type": "scatterpolargl"
           }
          ],
          "scatterternary": [
           {
            "marker": {
             "colorbar": {
              "outlinewidth": 0,
              "ticks": ""
             }
            },
            "type": "scatterternary"
           }
          ],
          "surface": [
           {
            "colorbar": {
             "outlinewidth": 0,
             "ticks": ""
            },
            "colorscale": [
             [
              0,
              "#0d0887"
             ],
             [
              0.1111111111111111,
              "#46039f"
             ],
             [
              0.2222222222222222,
              "#7201a8"
             ],
             [
              0.3333333333333333,
              "#9c179e"
             ],
             [
              0.4444444444444444,
              "#bd3786"
             ],
             [
              0.5555555555555556,
              "#d8576b"
             ],
             [
              0.6666666666666666,
              "#ed7953"
             ],
             [
              0.7777777777777778,
              "#fb9f3a"
             ],
             [
              0.8888888888888888,
              "#fdca26"
             ],
             [
              1,
              "#f0f921"
             ]
            ],
            "type": "surface"
           }
          ],
          "table": [
           {
            "cells": {
             "fill": {
              "color": "#EBF0F8"
             },
             "line": {
              "color": "white"
             }
            },
            "header": {
             "fill": {
              "color": "#C8D4E3"
             },
             "line": {
              "color": "white"
             }
            },
            "type": "table"
           }
          ]
         },
         "layout": {
          "annotationdefaults": {
           "arrowcolor": "#2a3f5f",
           "arrowhead": 0,
           "arrowwidth": 1
          },
          "autotypenumbers": "strict",
          "coloraxis": {
           "colorbar": {
            "outlinewidth": 0,
            "ticks": ""
           }
          },
          "colorscale": {
           "diverging": [
            [
             0,
             "#8e0152"
            ],
            [
             0.1,
             "#c51b7d"
            ],
            [
             0.2,
             "#de77ae"
            ],
            [
             0.3,
             "#f1b6da"
            ],
            [
             0.4,
             "#fde0ef"
            ],
            [
             0.5,
             "#f7f7f7"
            ],
            [
             0.6,
             "#e6f5d0"
            ],
            [
             0.7,
             "#b8e186"
            ],
            [
             0.8,
             "#7fbc41"
            ],
            [
             0.9,
             "#4d9221"
            ],
            [
             1,
             "#276419"
            ]
           ],
           "sequential": [
            [
             0,
             "#0d0887"
            ],
            [
             0.1111111111111111,
             "#46039f"
            ],
            [
             0.2222222222222222,
             "#7201a8"
            ],
            [
             0.3333333333333333,
             "#9c179e"
            ],
            [
             0.4444444444444444,
             "#bd3786"
            ],
            [
             0.5555555555555556,
             "#d8576b"
            ],
            [
             0.6666666666666666,
             "#ed7953"
            ],
            [
             0.7777777777777778,
             "#fb9f3a"
            ],
            [
             0.8888888888888888,
             "#fdca26"
            ],
            [
             1,
             "#f0f921"
            ]
           ],
           "sequentialminus": [
            [
             0,
             "#0d0887"
            ],
            [
             0.1111111111111111,
             "#46039f"
            ],
            [
             0.2222222222222222,
             "#7201a8"
            ],
            [
             0.3333333333333333,
             "#9c179e"
            ],
            [
             0.4444444444444444,
             "#bd3786"
            ],
            [
             0.5555555555555556,
             "#d8576b"
            ],
            [
             0.6666666666666666,
             "#ed7953"
            ],
            [
             0.7777777777777778,
             "#fb9f3a"
            ],
            [
             0.8888888888888888,
             "#fdca26"
            ],
            [
             1,
             "#f0f921"
            ]
           ]
          },
          "colorway": [
           "#636efa",
           "#EF553B",
           "#00cc96",
           "#ab63fa",
           "#FFA15A",
           "#19d3f3",
           "#FF6692",
           "#B6E880",
           "#FF97FF",
           "#FECB52"
          ],
          "font": {
           "color": "#2a3f5f"
          },
          "geo": {
           "bgcolor": "white",
           "lakecolor": "white",
           "landcolor": "#E5ECF6",
           "showlakes": true,
           "showland": true,
           "subunitcolor": "white"
          },
          "hoverlabel": {
           "align": "left"
          },
          "hovermode": "closest",
          "mapbox": {
           "style": "light"
          },
          "paper_bgcolor": "white",
          "plot_bgcolor": "#E5ECF6",
          "polar": {
           "angularaxis": {
            "gridcolor": "white",
            "linecolor": "white",
            "ticks": ""
           },
           "bgcolor": "#E5ECF6",
           "radialaxis": {
            "gridcolor": "white",
            "linecolor": "white",
            "ticks": ""
           }
          },
          "scene": {
           "xaxis": {
            "backgroundcolor": "#E5ECF6",
            "gridcolor": "white",
            "gridwidth": 2,
            "linecolor": "white",
            "showbackground": true,
            "ticks": "",
            "zerolinecolor": "white"
           },
           "yaxis": {
            "backgroundcolor": "#E5ECF6",
            "gridcolor": "white",
            "gridwidth": 2,
            "linecolor": "white",
            "showbackground": true,
            "ticks": "",
            "zerolinecolor": "white"
           },
           "zaxis": {
            "backgroundcolor": "#E5ECF6",
            "gridcolor": "white",
            "gridwidth": 2,
            "linecolor": "white",
            "showbackground": true,
            "ticks": "",
            "zerolinecolor": "white"
           }
          },
          "shapedefaults": {
           "line": {
            "color": "#2a3f5f"
           }
          },
          "ternary": {
           "aaxis": {
            "gridcolor": "white",
            "linecolor": "white",
            "ticks": ""
           },
           "baxis": {
            "gridcolor": "white",
            "linecolor": "white",
            "ticks": ""
           },
           "bgcolor": "#E5ECF6",
           "caxis": {
            "gridcolor": "white",
            "linecolor": "white",
            "ticks": ""
           }
          },
          "title": {
           "x": 0.05
          },
          "xaxis": {
           "automargin": true,
           "gridcolor": "white",
           "linecolor": "white",
           "ticks": "",
           "title": {
            "standoff": 15
           },
           "zerolinecolor": "white",
           "zerolinewidth": 2
          },
          "yaxis": {
           "automargin": true,
           "gridcolor": "white",
           "linecolor": "white",
           "ticks": "",
           "title": {
            "standoff": 15
           },
           "zerolinecolor": "white",
           "zerolinewidth": 2
          }
         }
        },
        "title": {
         "text": "Parallel Coordinate Plot"
        }
       }
      }
     },
     "metadata": {},
     "output_type": "display_data"
    }
   ],
   "source": [
    "#plot_parallel_coordinate: interactively visualizes the hyperparameters and scores\n",
    "optuna.visualization.plot_parallel_coordinate(study)"
   ]
  },
  {
   "cell_type": "code",
   "execution_count": 219,
   "metadata": {},
   "outputs": [],
   "source": [
    "# save the model\n",
    "best_model.save_model(\"../models/xgb-capybara-2.bin\")\n",
    "\n",
    "#load the model\n",
    "#model = xgb.Booster(model_file=\"../models/xgb_model_2.bin\")\n",
    "# predict the test data\n",
    "#model.predict(xgb.DMatrix(X_test))"
   ]
  },
  {
   "cell_type": "markdown",
   "metadata": {},
   "source": [
    "## Evaluation"
   ]
  },
  {
   "cell_type": "code",
   "execution_count": 98,
   "metadata": {},
   "outputs": [],
   "source": [
    "def predict(X: np.array) -> np.array:\n",
    "    preds = []\n",
    "    for sample in X:\n",
    "        var = sample[:,0:3].var()\n",
    "        if var > 0.002:\n",
    "            preds.append(1)\n",
    "        else:\n",
    "            preds.append(0)\n",
    "    return np.array(preds)"
   ]
  },
  {
   "cell_type": "code",
   "execution_count": 92,
   "metadata": {},
   "outputs": [
    {
     "name": "stdout",
     "output_type": "stream",
     "text": [
      "[0 1 0 0 1 1 1 0 0 1 0 1 0 1 0 1 0 0 1 0 0 0 0 0 0 0 0 0 0]\n"
     ]
    }
   ],
   "source": [
    "preds = predict(X_test)\n",
    "print(preds)"
   ]
  },
  {
   "cell_type": "code",
   "execution_count": 100,
   "metadata": {},
   "outputs": [
    {
     "data": {
      "image/png": "[encoded data removed]",
      "text/plain": [
       "<Figure size 432x288 with 2 Axes>"
      ]
     },
     "metadata": {
      "needs_background": "light"
     },
     "output_type": "display_data"
    }
   ],
   "source": [
    "from sklearn.metrics import confusion_matrix,ConfusionMatrixDisplay\n",
    "\n",
    "preds = predict(X_train)\n",
    "pred_labels = rint(preds)\n",
    "\n",
    "# get confusion matrix\n",
    "#plt.rcParams['figure.figsize'] = (10, 10)\n",
    "\n",
    "# plot confusion matrix\n",
    "\n",
    "cm = confusion_matrix(y_train, pred_labels, labels=[0, 1])\n",
    "disp = ConfusionMatrixDisplay(confusion_matrix=cm,\n",
    "                              display_labels=[0, 1])\n",
    "disp.plot()\n",
    "plt.show()"
   ]
  }
 ],
 "metadata": {
  "kernelspec": {
   "display_name": "Python 3.8.12 ('ai-model-training-ZBO0jvbE-py3.8')",
   "language": "python",
   "name": "python3"
  },
  "language_info": {
   "codemirror_mode": {
    "name": "ipython",
    "version": 3
   },
   "file_extension": ".py",
   "mimetype": "text/x-python",
   "name": "python",
   "nbconvert_exporter": "python",
   "pygments_lexer": "ipython3",
   "version": "3.8.12"
  },
  "orig_nbformat": 4,
  "vscode": {
   "interpreter": {
    "hash": "a6e966a0e859d66d54bfa12dbe859418671949296028374713b05f8ccbeb8962"
   }
  }
 },
 "nbformat": 4,
 "nbformat_minor": 2
}
